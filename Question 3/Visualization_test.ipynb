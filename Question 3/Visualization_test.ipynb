{
 "cells": [
  {
   "cell_type": "code",
   "execution_count": null,
   "metadata": {},
   "outputs": [],
   "source": [
    "import numpy as np\n",
    "import torchvision\n",
    "import time\n",
    "import os\n",
    "import copy\n",
    "import collections\n",
    "import torch.optim as optimy\n",
    "import pdb\n",
    "import time\n",
    "import argparse\n",
    "import torch.nn as nn\n",
    "import sys\n",
    "import torch.nn as nn\n",
    "import torch.optim as optim\n",
    "import torch.nn.functional as F\n",
    "import torch.backends.cudnn as cudnn\n",
    "import torchvision.models as models\n",
    "import torchvision\n",
    "import cv2\n",
    "import warnings\n",
    "warnings.filterwarnings(\"ignore\")\n",
    "import torch\n",
    "import retinanet.model as retinanet_model\n",
    "from torch.utils.data import Dataset, DataLoader\n",
    "from sklearn.metrics import precision_recall_fscore_support\n",
    "from torchvision import datasets, models, transforms\n",
    "\n",
    "from retinanet.dataloader import CocoDataset, CSVDataset, collater, Resizer, AspectRatioBasedSampler, Augmenter,UnNormalizer, Normalizer\n",
    "\n",
    "\n",
    "assert torch.__version__.split('.')[0] == '1'\n",
    "\n",
    "print('CUDA available: {}'.format(torch.cuda.is_available()))\n",
    "\n"
   ]
  },
  {
   "cell_type": "code",
   "execution_count": null,
   "metadata": {},
   "outputs": [],
   "source": [
    "def draw_caption(image, box, caption):\n",
    "\n",
    "    b = np.array(box).astype(int)\n",
    "    cv2.putText(image, caption, (b[0], b[1] - 10), cv2.FONT_HERSHEY_PLAIN, 1, (0, 0, 0), 2)\n",
    "    cv2.putText(image, caption, (b[0], b[1] - 10), cv2.FONT_HERSHEY_PLAIN, 1, (255, 255, 255), 1)"
   ]
  },
  {
   "cell_type": "code",
   "execution_count": null,
   "metadata": {},
   "outputs": [],
   "source": [
    "# # Save image with bbox, flag_save\n",
    "# # csv file location  for evaluation, valid_csv\n",
    "# # csv file location  for class details, class_csv\n",
    "# # Final best model location, best_model\n",
    "# flag_save = sys.argv[0]\n",
    "# valid_csv = sys.agv[1]\n",
    "# clss_csv = sys.argv[2]"
   ]
  },
  {
   "cell_type": "code",
   "execution_count": null,
   "metadata": {},
   "outputs": [],
   "source": [
    "# Reference : https://github.com/qqadssp/RetinaNet-Pytorch/blob/master/utils/utils.py\n",
    "def box_iou(box1, box2, order='xyxy'):\n",
    "    '''Compute the intersection over union of two set of boxes.\n",
    "    The default box order is (xmin, ymin, xmax, ymax).\n",
    "    Args:\n",
    "      box1: (tensor) bounding boxes, sized [N,4].\n",
    "      box2: (tensor) bounding boxes, sized [M,4].\n",
    "      order: (str) box order, either 'xyxy' or 'xywh'.\n",
    "    Return:\n",
    "      (tensor) iou, sized [N,M].\n",
    "    Reference:\n",
    "      https://github.com/chainer/chainercv/blob/master/chainercv/utils/bbox/bbox_iou.py\n",
    "    '''\n",
    "    if order == 'xywh':\n",
    "        box1 = change_box_order(box1, 'xywh2xyxy')\n",
    "        box2 = change_box_order(box2, 'xywh2xyxy')\n",
    "\n",
    "    N = box1.size(0)\n",
    "#     print(box1,box2)\n",
    "    M = box2.size(0)\n",
    "\n",
    "    lt = torch.max(box1[:,None,:2], box2[:,:2])  # [N,M,2]\n",
    "    rb = torch.min(box1[:,None,2:], box2[:,2:])  # [N,M,2]\n",
    "\n",
    "    wh = (rb-lt+1).clamp(min=0)      # [N,M,2]\n",
    "    inter = wh[:,:,0] * wh[:,:,1]  # [N,M]\n",
    "\n",
    "    area1 = (box1[:,2]-box1[:,0]+1) * (box1[:,3]-box1[:,1]+1)  # [N,]\n",
    "    area2 = (box2[:,2]-box2[:,0]+1) * (box2[:,3]-box2[:,1]+1)  # [M,]\n",
    "    iou = inter / (area1[:,None] + area2 - inter)\n",
    "    return iou"
   ]
  },
  {
   "cell_type": "code",
   "execution_count": null,
   "metadata": {},
   "outputs": [],
   "source": [
    "dataset_val = CSVDataset(train_file=\"myvaliddataset.csv\", class_list=\"class_detail.csv\", transform=transforms.Compose([Normalizer(), Resizer()]))\n",
    "sampler_val = AspectRatioBasedSampler(dataset_val, batch_size=1, drop_last=False)\n",
    "dataloader_val = DataLoader(dataset_val, num_workers=1, collate_fn=collater, batch_sampler=sampler_val)\n",
    "retinanet = torch.load(\"./Best_model/model_final.pt\")\n",
    "use_gpu = True\n",
    "if use_gpu:\n",
    "    retinanet = retinanet.cuda()\n",
    "retinanet.eval()\n",
    "unnormalize = UnNormalizer()"
   ]
  },
  {
   "cell_type": "code",
   "execution_count": null,
   "metadata": {},
   "outputs": [],
   "source": [
    "iou_total = []\n",
    "coor_pred = []\n",
    "coor_true = []\n",
    "true_label = []\n",
    "pred_label = []\n",
    "for idx, data in enumerate(dataloader_val):\n",
    "    with torch.no_grad():\n",
    "        st = time.time()\n",
    "        scores, classification, transformed_anchors = retinanet(data['img'].cuda().float())\n",
    "#         print('Elapsed time: {}'.format(time.time()-st))\n",
    "        idxs = np.where(scores.cpu()>0.5)\n",
    "        img = np.array(255 * unnormalize(data['img'][0, :, :, :])).copy()\n",
    "\n",
    "        img[img<0] = 0\n",
    "        img[img>255] = 255\n",
    "\n",
    "        img = np.transpose(img, (1, 2, 0))\n",
    "\n",
    "        img = cv2.cvtColor(img.astype(np.uint8), cv2.COLOR_BGR2RGB)\n",
    "        temp = []\n",
    "        temp1 = []\n",
    "        for j in range(idxs[0].shape[0]):\n",
    "            bbox = transformed_anchors[idxs[0][j], :]\n",
    "            x1 = int(bbox[0])\n",
    "            y1 = int(bbox[1])\n",
    "            x2 = int(bbox[2])\n",
    "            y2 = int(bbox[3])\n",
    "            temp.append([x1,y1,x2,y2])\n",
    "            label_name = dataset_val.labels[int(classification[idxs[0][j]])]\n",
    "            temp1.append(label_name)\n",
    "            draw_caption(img, (x1, y1, x2, y2), label_name)\n",
    "            cv2.rectangle(img, (x1, y1), (x2, y2), color=(0, 0, 255), thickness=2)\n",
    "        true_annot = data[\"annot\"]\n",
    "        coor_pred.append(temp)\n",
    "        pred_label.append(temp1)\n",
    "        iou = 0\n",
    "        \n",
    "        for i in range(len(true_annot)):\n",
    "            temp = []\n",
    "            temp1 = []\n",
    "            for k in range(len(true_annot[0])):\n",
    "                    \n",
    "                a1 = int(true_annot[i][k][0])\n",
    "                a2 = int(true_annot[i][k][1])\n",
    "                a3 = int(true_annot[i][k][2])\n",
    "                a4 = int(true_annot[i][k][3])\n",
    "                \n",
    "                lab = dataset_val.labels[int(true_annot[0][0][4])]\n",
    "                temp.append([a1,a2,a3,a4])\n",
    "                temp1.append(lab)\n",
    "                draw_caption(img, (a1, a2, a3, a4), lab)\n",
    "        \n",
    "                cv2.rectangle(img, (a1, a2), (a3, a4), color=(0, 255,0), thickness=2)\n",
    "                \n",
    "            coor_true.append(temp)\n",
    "            true_label.append(temp1)\n",
    "        \n",
    "        \n",
    "#             print(label_name)\n",
    "#         print(idx)\n",
    "#         cv2.imwrite(\"./images/\"+\"img_\"+label_name+str(idx)+\".jpg\",img)"
   ]
  },
  {
   "cell_type": "code",
   "execution_count": null,
   "metadata": {},
   "outputs": [],
   "source": [
    "!pip install torchsummary"
   ]
  },
  {
   "cell_type": "code",
   "execution_count": null,
   "metadata": {},
   "outputs": [],
   "source": []
  },
  {
   "cell_type": "code",
   "execution_count": null,
   "metadata": {},
   "outputs": [],
   "source": []
  },
  {
   "cell_type": "code",
   "execution_count": null,
   "metadata": {},
   "outputs": [],
   "source": [
    "dict_label = {}\n",
    "dict_label[\"coyote\"]=0\n",
    "dict_label[\"bobcat\"]=1\n",
    "dict_label[\"bird\"]=2\n",
    "dict_label[\"raccoon\"]=3\n",
    "dict_label[\"car\"]=4\n",
    "dict_label[\"rabbit\"]=5\n",
    "dict_label[\"squirrel\"]=6\n",
    "dict_label[\"cat\"]=7"
   ]
  },
  {
   "cell_type": "code",
   "execution_count": null,
   "metadata": {},
   "outputs": [],
   "source": []
  },
  {
   "cell_type": "code",
   "execution_count": null,
   "metadata": {},
   "outputs": [],
   "source": []
  },
  {
   "cell_type": "code",
   "execution_count": null,
   "metadata": {},
   "outputs": [],
   "source": []
  },
  {
   "cell_type": "code",
   "execution_count": null,
   "metadata": {},
   "outputs": [],
   "source": [
    "iou_total = []\n",
    "conf_matrix = []\n",
    "for i in range(len(dict_label.keys())+1):\n",
    "    \n",
    "    conf_matrix.append([0 for i in range(len(dict_label.keys())+1)])\n",
    "for i in range(len(coor_pred)):\n",
    "    if len(coor_pred[i]) >=2 and len(coor_true[i]) >=2:\n",
    "        \n",
    "        for j in range(len(coor_pred[i])):\n",
    "            try:\n",
    "                sum = box_iou(torch.from_numpy(np.array(coor_true[i][j],dtype=\"float64\")), torch.from_numpy(np.array(coor_pred[i][j],dtype=\"float64\")))\n",
    "                if sum >=0.5:\n",
    "                    if pred_label[i][j] == true_label[i][j]:\n",
    "                        \n",
    "                        conf_matrix[dict_label[pred_label[i][j][0]]][dict_label[true_label[i][j][0]]] = conf_matrix[dict_label[pred_label[i][j][0]]][dict_label[true_label[i][j][0]]] +1\n",
    "                iou_total.append(sum)\n",
    "                continue\n",
    "            except:\n",
    "                pass\n",
    "    elif len(coor_true[i])>=2:\n",
    "         for j in range(len(coor_true[i])):\n",
    "            try:\n",
    "                sum = box_iou(torch.from_numpy(np.array(coor_true[i][j],dtype=\"float64\")), torch.from_numpy(np.array(coor_pred[i],dtype=\"float64\")))\n",
    "                iou_total.append(sum)\n",
    "                if sum >=0.5:\n",
    "#                     print(pred_label[i])\n",
    "                    if pred_label[i] == true_label[i][j]:\n",
    "                        \n",
    "                        conf_matrix[dict_label[pred_label[i][0]]][dict_label[true_label[i][j][0]]] = conf_matrix[dict_label[pred_label[i][0]]][dict_label[true_label[i][j][0]]] +1\n",
    "                continue\n",
    "            except:\n",
    "                \n",
    "                pass\n",
    "    elif len(coor_pred[i])>=2:\n",
    "        for j in range(len(coor_pred[i])):\n",
    "            try:\n",
    "                sum = box_iou(torch.from_numpy(np.array(coor_true[i],dtype=\"float64\")), torch.from_numpy(np.array(coor_pred[i][j],dtype=\"float64\")))\n",
    "                iou_total.append(sum)\n",
    "                if sum >=0.5:\n",
    "#                     print(pred_label[i])\n",
    "                    if pred_label[i][j]== true_label[i]:\n",
    "                        \n",
    "                        conf_matrix[dict_label[pred_label[i][j][0]]][dict_label[true_label[i][0]]] = conf_matrix[dict_label[pred_label[i][j][0]]][dict_label[true_label[i][0]]] +1\n",
    "                continue\n",
    "            except:\n",
    "                pass\n",
    "    elif len(coor_pred[i])==1 and len(coor_true[i])==1:\n",
    "        sum = box_iou(torch.from_numpy(np.array(coor_true[i],dtype=\"float64\")), torch.from_numpy(np.array(coor_pred[i],dtype=\"float64\")))\n",
    "        iou_total.append(sum)\n",
    "        if sum >=0.5:\n",
    "             \n",
    "            if pred_label[i]== true_label[i]:\n",
    "#                 print(pred_label[i])\n",
    "                conf_matrix[dict_label[pred_label[i][0]]][dict_label[true_label[i][0]]] = conf_matrix[dict_label[pred_label[i][0]]][dict_label[true_label[i][0]]] +1\n",
    "            continue\n",
    "                                                                                                          \n",
    "    elif len(coor_pred)==0 and len(coor_true)==0:\n",
    "        conf_matrix[8][8] = conf_matrix[8][8] + 1\n",
    "        continue\n",
    "    elif len(coor_pred)==0:\n",
    "        if len(true_label)==0 or len(pred_label)==0:\n",
    "            conf_matrix[8][8] = conf_matrix[8][8] + 1\n",
    "        else:\n",
    "            try:\n",
    "                conf_matrix[8][dict_label[true_label[i]]] = conf_matrix[8][dict_label[true_label[i]]] +1\n",
    "            except:\n",
    "                conf_matrix[8][8] = conf_matrix[8][8] + 1\n",
    "        continue\n",
    "    else:\n",
    "        if len(true_label)==0 or len(pred_label)==0:\n",
    "            conf_matrix[8][8] = conf_matrix[8][8] + 1\n",
    "        else:\n",
    "            try:\n",
    "                conf_matrix[dict_label[pred_label[i]]][8] = conf_matrix[dict_label[pred_label[i]]][8] +1\n",
    "            except:\n",
    "                conf_matrix[8][8] = conf_matrix[8][8] + 1\n",
    "        continue\n",
    "        \n",
    "        pass\n",
    "        "
   ]
  },
  {
   "cell_type": "code",
   "execution_count": null,
   "metadata": {},
   "outputs": [],
   "source": [
    "# Predicted : row and True : column\n",
    "conf_matrix"
   ]
  },
  {
   "cell_type": "code",
   "execution_count": null,
   "metadata": {},
   "outputs": [],
   "source": [
    "import seaborn as sns\n",
    "sns.heatmap(conf_matrix,annot=True)"
   ]
  },
  {
   "cell_type": "code",
   "execution_count": 6,
   "metadata": {},
   "outputs": [],
   "source": [
    "conf_matrix = [[4,0,0,0,0,0,0,0],[0,1,0,0,0,0,0,0],[0,0,0,0,0,0,0,0],\n",
    "               [0,0,0,1,0,0,0,0],[0,0,0,0,2,0,0,0],[0,0,0,0,0,0,0,0],[0,0,0,0,0,0,0,0],[0,0,0,0,0,0,0,1],[40,43,82,64,55,58,62,68]]"
   ]
  },
  {
   "cell_type": "code",
   "execution_count": 7,
   "metadata": {},
   "outputs": [
    {
     "data": {
      "text/plain": [
       "<matplotlib.axes._subplots.AxesSubplot at 0x7ff8a780ee90>"
      ]
     },
     "execution_count": 7,
     "metadata": {},
     "output_type": "execute_result"
    },
    {
     "data": {
      "image/png": "[encoded data removed]",
      "text/plain": [
       "<Figure size 432x288 with 2 Axes>"
      ]
     },
     "metadata": {
      "needs_background": "light"
     },
     "output_type": "display_data"
    }
   ],
   "source": [
    "import seaborn as sns\n",
    "sns.heatmap(conf_matrix,annot=True)"
   ]
  },
  {
   "cell_type": "code",
   "execution_count": null,
   "metadata": {},
   "outputs": [],
   "source": [
    "iou_total_sum = 0\n",
    "for i in range(len(iou_total)):\n",
    "    iou_total_sum =iou_total_sum + (iou_total[i][0]).sum()/len(iou_total[i][0])\n",
    "iou_final = iou_total_sum/len(iou_total)"
   ]
  },
  {
   "cell_type": "code",
   "execution_count": null,
   "metadata": {},
   "outputs": [],
   "source": [
    "print(\"Final IOU for validation set : \",iou_final)"
   ]
  },
  {
   "cell_type": "code",
   "execution_count": null,
   "metadata": {},
   "outputs": [],
   "source": []
  },
  {
   "cell_type": "code",
   "execution_count": null,
   "metadata": {},
   "outputs": [],
   "source": []
  },
  {
   "cell_type": "code",
   "execution_count": null,
   "metadata": {},
   "outputs": [],
   "source": []
  },
  {
   "cell_type": "code",
   "execution_count": null,
   "metadata": {},
   "outputs": [],
   "source": [
    "import matplotlib.pyplot as plt"
   ]
  },
  {
   "cell_type": "code",
   "execution_count": null,
   "metadata": {},
   "outputs": [],
   "source": [
    "loss = np.load(\"./Best_model/epoch_loss.npy\")\n",
    "epoch = [i for i in range(len(loss))]\n",
    "plt.plot(epoch, loss,label = \"Loss Curve \")\n",
    "plt.title(\"Loss Vs Epoch Curve\")\n",
    "plt.xlabel(\"Epochs\")\n",
    "plt.ylabel(\"Loss \")\n",
    "plt.legend()\n",
    "plt.show()"
   ]
  },
  {
   "cell_type": "code",
   "execution_count": null,
   "metadata": {},
   "outputs": [],
   "source": [
    "retinanet"
   ]
  },
  {
   "cell_type": "code",
   "execution_count": null,
   "metadata": {},
   "outputs": [],
   "source": []
  },
  {
   "cell_type": "code",
   "execution_count": null,
   "metadata": {},
   "outputs": [],
   "source": []
  },
  {
   "cell_type": "code",
   "execution_count": null,
   "metadata": {},
   "outputs": [],
   "source": []
  }
 ],
 "metadata": {
  "kernelspec": {
   "display_name": "Python 3",
   "language": "python",
   "name": "python3"
  },
  "language_info": {
   "codemirror_mode": {
    "name": "ipython",
    "version": 3
   },
   "file_extension": ".py",
   "mimetype": "text/x-python",
   "name": "python",
   "nbconvert_exporter": "python",
   "pygments_lexer": "ipython3",
   "version": "3.7.4"
  }
 },
 "nbformat": 4,
 "nbformat_minor": 2
}
