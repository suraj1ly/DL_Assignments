{
 "cells": [
  {
   "cell_type": "code",
   "execution_count": 1,
   "metadata": {},
   "outputs": [
    {
     "name": "stdout",
     "output_type": "stream",
     "text": [
      "CUDA available: True\n"
     ]
    }
   ],
   "source": [
    "import argparse\n",
    "import collections\n",
    "import torch.optim as optim\n",
    "from torchvision import transforms\n",
    "from retinanet import model\n",
    "# from retinanet.dataloader import CocoDataset, CSVDataset, collater, Resizer, AspectRatioBasedSampler, Augmenter,Normalizer\n",
    "from retinanet.dataloader import CocoDataset, CSVDataset, collater, Resizer, AspectRatioBasedSampler, Augmenter,UnNormalizer, Normalizer\n",
    "from torch.utils.data import DataLoader\n",
    "from retinanet import coco_eval\n",
    "from retinanet import csv_eval\n",
    "import torch\n",
    "import copy\n",
    "import numpy as np\n",
    "import pandas as pd\n",
    "import os\n",
    "import matplotlib.pyplot as plt\n",
    "import cv2\n",
    "from sklearn.utils import shuffle\n",
    "import torch.nn as nn\n",
    "import torch.optim as optim\n",
    "import torch.nn.functional as F\n",
    "import torch.backends.cudnn as cudnn\n",
    "import torchvision.models as models\n",
    "import torchvision\n",
    "import torchvision.transforms as transforms\n",
    "import matplotlib.pyplot as plt\n",
    "import matplotlib.image as mpimg\n",
    "import warnings \n",
    "import json\n",
    "from torch.utils.data.sampler import SubsetRandomSampler\n",
    "import retinanet.model as retinanet_model\n",
    "warnings.filterwarnings(\"ignore\")\n",
    "\n",
    "assert torch.__version__.split('.')[0] == '1'\n",
    "\n",
    "print('CUDA available: {}'.format(torch.cuda.is_available()))\n"
   ]
  },
  {
   "cell_type": "code",
   "execution_count": 2,
   "metadata": {},
   "outputs": [],
   "source": [
    "# Reference : https://github.com/qqadssp/RetinaNet-Pytorch/blob/master/utils/utils.py\n",
    "def box_iou(box1, box2, order='xyxy'):\n",
    "    '''Compute the intersection over union of two set of boxes.\n",
    "    The default box order is (xmin, ymin, xmax, ymax).\n",
    "    Args:\n",
    "      box1: (tensor) bounding boxes, sized [N,4].\n",
    "      box2: (tensor) bounding boxes, sized [M,4].\n",
    "      order: (str) box order, either 'xyxy' or 'xywh'.\n",
    "    Return:\n",
    "      (tensor) iou, sized [N,M].\n",
    "    Reference:\n",
    "      https://github.com/chainer/chainercv/blob/master/chainercv/utils/bbox/bbox_iou.py\n",
    "    '''\n",
    "    if order == 'xywh':\n",
    "        box1 = change_box_order(box1, 'xywh2xyxy')\n",
    "        box2 = change_box_order(box2, 'xywh2xyxy')\n",
    "\n",
    "    N = box1.size(0)\n",
    "#     print(box1,box2)\n",
    "    M = box2.size(0)\n",
    "\n",
    "    lt = torch.max(box1[:,None,:2], box2[:,:2])  # [N,M,2]\n",
    "    rb = torch.min(box1[:,None,2:], box2[:,2:])  # [N,M,2]\n",
    "\n",
    "    wh = (rb-lt+1).clamp(min=0)      # [N,M,2]\n",
    "    inter = wh[:,:,0] * wh[:,:,1]  # [N,M]\n",
    "\n",
    "    area1 = (box1[:,2]-box1[:,0]+1) * (box1[:,3]-box1[:,1]+1)  # [N,]\n",
    "    area2 = (box2[:,2]-box2[:,0]+1) * (box2[:,3]-box2[:,1]+1)  # [M,]\n",
    "    iou = inter / (area1[:,None] + area2 - inter)\n",
    "    return iou"
   ]
  },
  {
   "cell_type": "code",
   "execution_count": 3,
   "metadata": {},
   "outputs": [],
   "source": [
    "def get_bbox(annotations,address):\n",
    "    return np.array(annotations)[list(np.array(annotations['image_id'])).index(address)][2]\n",
    "\n",
    "def draw_caption(image, box, caption):\n",
    "\n",
    "    b = np.array(box).astype(int)\n",
    "    cv2.putText(image, caption, (b[0], b[1] - 10), cv2.FONT_HERSHEY_PLAIN, 1, (0, 0, 0), 2)\n",
    "    cv2.putText(image, caption, (b[0], b[1] - 10), cv2.FONT_HERSHEY_PLAIN, 1, (255, 255, 255), 1)"
   ]
  },
  {
   "cell_type": "code",
   "execution_count": 4,
   "metadata": {},
   "outputs": [],
   "source": [
    "# test_json_loc = sys.argv[1]\n",
    "# test_csv_file = sys.argv[2]\n",
    "# model_loc = sys.argv[3]\n",
    "test_json_loc = \"../train_annotations.json\"\n",
    "test_csv_file = \"mytestdata.csv\"\n",
    "test_data_path = './final_test_data/'\n",
    "# model_loc = \"./Best_model/model_final.pt\"\n",
    "model_loc = \"./model_final_2.pt\""
   ]
  },
  {
   "cell_type": "code",
   "execution_count": 5,
   "metadata": {},
   "outputs": [],
   "source": [
    "f= open(test_json_loc,\"r\")\n",
    "g = f.read()\n",
    "annotations_dict = json.loads(g)\n",
    "annotations = pd.DataFrame(annotations_dict['annotations'])"
   ]
  },
  {
   "cell_type": "code",
   "execution_count": 6,
   "metadata": {},
   "outputs": [],
   "source": [
    "# f = open(\"class_detail1.csv\",\"r\")\n",
    "# g = f.read().split(\"\\n\")\n",
    "# dict_labels = {}\n",
    "# for i in g:\n",
    "#     dict_labels[i.split(\",\")[0]] = int(i.split(\",\")[1])\n"
   ]
  },
  {
   "cell_type": "code",
   "execution_count": null,
   "metadata": {},
   "outputs": [],
   "source": []
  },
  {
   "cell_type": "code",
   "execution_count": 7,
   "metadata": {},
   "outputs": [],
   "source": [
    "dict_labels = {'coyote': 0,\n",
    " 'bobcat': 1,\n",
    " 'bird': 2,\n",
    " 'raccoon': 3,\n",
    " 'car': 4,\n",
    " 'rabbit': 5,\n",
    " 'squirrel': 6,\n",
    " 'cat': 7}"
   ]
  },
  {
   "cell_type": "code",
   "execution_count": null,
   "metadata": {},
   "outputs": [],
   "source": []
  },
  {
   "cell_type": "code",
   "execution_count": 8,
   "metadata": {},
   "outputs": [],
   "source": [
    "list_class = os.listdir(test_data_path)\n",
    "# dict_labels,labels = mapping(list_class)\n",
    "\n",
    "dataset = []\n",
    "class_ = []\n",
    "bbox = []\n",
    "label_main = []\n",
    "paths = []\n",
    "class_name = []\n",
    "counter_except = 0\n",
    "count_label = []\n",
    "for i in range(len(list_class)):\n",
    "    list_classwise = os.listdir(test_data_path+list_class[i])\n",
    "    count_label.append(len(list_classwise))\n",
    "    for j in list_classwise:\n",
    "        img = cv2.imread(test_data_path+list_class[i]+\"/\"+j,1)\n",
    "        try:\n",
    "            box = get_bbox(annotations,j.split('.')[0])\n",
    "            bbox.append(box)\n",
    "            img = cv2.resize(img,(100,100))\n",
    "            img = np.swapaxes(img,0,2).flatten()\n",
    "            \n",
    "            paths.append(test_data_path+list_class[i]+\"/\"+j)\n",
    "            class_name.append(list_class[i])\n",
    "            label_main.append(dict_labels[list_class[i]])\n",
    "            dataset.append(img)\n",
    "            class_.append(i)\n",
    "        except:\n",
    "            counter_except = counter_except +1"
   ]
  },
  {
   "cell_type": "code",
   "execution_count": 9,
   "metadata": {},
   "outputs": [],
   "source": [
    "count_label = []\n",
    "for i in range(len(list_class)):\n",
    "    list_classwise = os.listdir(test_data_path+list_class[i])\n",
    "    count_label.append(len(list_classwise))"
   ]
  },
  {
   "cell_type": "code",
   "execution_count": null,
   "metadata": {},
   "outputs": [],
   "source": []
  },
  {
   "cell_type": "code",
   "execution_count": null,
   "metadata": {},
   "outputs": [],
   "source": [
    "# Making the csv file  for testing data\n",
    "f = open(test_csv_file,\"w\")\n",
    "for i in range(len(paths)):\n",
    "    f = open(test_csv_file,\"a\")\n",
    "    f.write(paths[i])\n",
    "    f.write(\",\")\n",
    "    try:\n",
    "        f.write(str(int(bbox[i][0])))\n",
    "    except:\n",
    "        pass\n",
    "    f.write(\",\")\n",
    "    try:\n",
    "        f.write(str(int(bbox[i][1])))\n",
    "    except:\n",
    "        pass\n",
    "    f.write(\",\")\n",
    "    try:\n",
    "        f.write(str(int(bbox[i][0])+int(bbox[i][3])))\n",
    "    except:\n",
    "        pass\n",
    "    f.write(\",\")\n",
    "    try:  \n",
    "        f.write(str(int(bbox[i][1]) + int(bbox[i][2])))\n",
    "    except:\n",
    "        pass\n",
    "    f.write(\",\")\n",
    "    \n",
    "    f.write(class_name[i])\n",
    "    f.write(\"\\n\")\n",
    "    f.close()"
   ]
  },
  {
   "cell_type": "code",
   "execution_count": null,
   "metadata": {},
   "outputs": [],
   "source": []
  },
  {
   "cell_type": "code",
   "execution_count": null,
   "metadata": {},
   "outputs": [],
   "source": [
    "# dataset_val = CSVDataset(train_file=\"./myvaliddataset.csv\", class_list=\"./class_detail.csv\",\n",
    "#                                  transform=transforms.Compose([Normalizer(), Resizer()]))\n",
    "# sampler_val = AspectRatioBasedSampler(dataset_val, batch_size=4,drop_last=False)\n",
    "# dataloader_val = DataLoader(dataset_val, num_workers=3, collate_fn=collater, batch_sampler=sampler_val)"
   ]
  },
  {
   "cell_type": "code",
   "execution_count": null,
   "metadata": {},
   "outputs": [],
   "source": [
    "# retinanet = torch.load(\"../pretrained_weights.pt\")"
   ]
  },
  {
   "cell_type": "code",
   "execution_count": null,
   "metadata": {},
   "outputs": [],
   "source": []
  },
  {
   "cell_type": "code",
   "execution_count": null,
   "metadata": {},
   "outputs": [],
   "source": []
  },
  {
   "cell_type": "code",
   "execution_count": null,
   "metadata": {},
   "outputs": [],
   "source": [
    "# epochs =100"
   ]
  },
  {
   "cell_type": "code",
   "execution_count": null,
   "metadata": {},
   "outputs": [],
   "source": []
  },
  {
   "cell_type": "code",
   "execution_count": 10,
   "metadata": {},
   "outputs": [],
   "source": [
    "# dataset_train = CSVDataset(train_file=\"./mytraindataset.csv\", class_list=\"./class_detail.csv\",\n",
    "#                                transform=transforms.Compose([Normalizer(), Augmenter(), Resizer()]))\n",
    "dataset_val = CSVDataset(train_file=test_csv_file, class_list=\"./class_detail.csv\",\n",
    "                                 transform=transforms.Compose([Normalizer(), Resizer()]))"
   ]
  },
  {
   "cell_type": "code",
   "execution_count": 11,
   "metadata": {},
   "outputs": [],
   "source": [
    "# sampler = AspectRatioBasedSampler(dataset_train, batch_size=8, drop_last=False)\n",
    "# dataloader_train = DataLoader(dataset_train, num_workers=3, collate_fn=collater, batch_sampler=sampler)\n",
    "\n",
    "if dataset_val is not None:\n",
    "    sampler_val = AspectRatioBasedSampler(dataset_val, batch_size=1, drop_last=False)\n",
    "    dataloader_val = DataLoader(dataset_val, num_workers=3, collate_fn=collater, batch_sampler=sampler_val)\n",
    "\n",
    "# Create the model\n",
    "\n",
    "# retinanet = model.resnet50(num_classes=8)\n",
    "retinanet = torch.load(model_loc)\n",
    "use_gpu = True\n",
    "\n"
   ]
  },
  {
   "cell_type": "code",
   "execution_count": 12,
   "metadata": {},
   "outputs": [],
   "source": [
    "# Initialising the checkpoint \n",
    "num_classes = 8\n",
    "\n",
    "# for param in retinanet.parameters():\n",
    "#     param.requires_grad = False\n",
    "# retinanet.classificationModel.fc = nn.Linear(720, num_classes)\n",
    "# retinanet = retinanet_model.resnet50(80)\n",
    "# checkpoint = torch.load(model_loc)\n",
    "# retinanet.load_state_dict(checkpoint)\n",
    "if use_gpu:\n",
    "    retinanet = retinanet.cuda()\n",
    "# print(\"Model retinanet : \",retinanet)\n",
    "retinanet = torch.nn.DataParallel(retinanet).cuda()\n",
    "# retinanet.training = True\n",
    "# optimizer = optim.Adam(retinanet.parameters(), lr=1e-5)\n",
    "# scheduler = optim.lr_scheduler.ReduceLROnPlateau(optimizer, patience=3, verbose=True)\n",
    "# loss_hist = collections.deque(maxlen=500)\n",
    "# retinanet.train()\n",
    "# retinanet.module.freeze_bn()\n",
    "\n"
   ]
  },
  {
   "cell_type": "code",
   "execution_count": 13,
   "metadata": {},
   "outputs": [
    {
     "name": "stdout",
     "output_type": "stream",
     "text": [
      "Num test images: 400\n",
      "400/400\n",
      "mAP:\n",
      "coyote: 0.4672927848710474\n",
      "bobcat: 0.49628339368969443\n",
      "bird: 0.2760479915276912\n",
      "raccoon: 0.8026216864368125\n",
      "car: 1.0\n",
      "rabbit: 0.7234794118025578\n",
      "squirrel: 0.4324337827374148\n",
      "cat: 0.6106827749462234\n"
     ]
    }
   ],
   "source": [
    "print('Num test images: {}'.format(len(dataset_val)))\n",
    "retinanet.eval()\n",
    "mAP = csv_eval.evaluate(dataset_val, retinanet)"
   ]
  },
  {
   "cell_type": "code",
   "execution_count": null,
   "metadata": {},
   "outputs": [],
   "source": []
  },
  {
   "cell_type": "code",
   "execution_count": null,
   "metadata": {},
   "outputs": [],
   "source": []
  },
  {
   "cell_type": "code",
   "execution_count": 14,
   "metadata": {},
   "outputs": [],
   "source": [
    "\n",
    "unnormalize = UnNormalizer()\n",
    "iou_total = []\n",
    "coor_pred = []\n",
    "coor_true = []\n",
    "true_label = []\n",
    "pred_label = []\n",
    "for idx, data in enumerate(dataloader_val):\n",
    "    with torch.no_grad():\n",
    "        \n",
    "        scores, classification, transformed_anchors = retinanet(data['img'].cuda().float())\n",
    "        idxs = np.where(scores.cpu()>0.5)\n",
    "        img = np.array(255 * unnormalize(data['img'][0, :, :, :])).copy()\n",
    "\n",
    "        img[img<0] = 0\n",
    "        img[img>255] = 255\n",
    "\n",
    "        img = np.transpose(img, (1, 2, 0))\n",
    "\n",
    "        img = cv2.cvtColor(img.astype(np.uint8), cv2.COLOR_BGR2RGB)\n",
    "        temp = []\n",
    "        temp1 = []\n",
    "        for j in range(idxs[0].shape[0]):\n",
    "            \n",
    "            bbox = transformed_anchors[idxs[0][j], :]\n",
    "            x1 = int(bbox[0])\n",
    "            y1 = int(bbox[1])\n",
    "            x2 = int(bbox[2])\n",
    "            y2 = int(bbox[3])\n",
    "            temp.append([x1,y1,x2,y2])\n",
    "            label_name = dataset_val.labels[int(classification[idxs[0][j]])]\n",
    "            temp1.append(label_name)\n",
    "            draw_caption(img, (x1, y1, x2, y2), label_name)\n",
    "            cv2.rectangle(img, (x1, y1), (x2, y2), color=(0, 0, 255), thickness=2)\n",
    "        true_annot = data[\"annot\"]\n",
    "        coor_pred.append(temp)\n",
    "        pred_label.append(temp1)\n",
    "        iou = 0\n",
    "        temp = []\n",
    "        temp1 = []\n",
    "        for i in range(len(true_annot)):\n",
    "            temp = []\n",
    "            temp1 = []\n",
    "            for k in range(len(true_annot[0])):\n",
    "                    \n",
    "                a1 = int(true_annot[i][k][0])\n",
    "                a2 = int(true_annot[i][k][1])\n",
    "                a3 = int(true_annot[i][k][2])\n",
    "                a4 = int(true_annot[i][k][3])\n",
    "                \n",
    "                lab = dataset_val.labels[int(true_annot[0][0][4])]\n",
    "                temp.append([a1,a2,a3,a4])\n",
    "                temp1.append(lab)\n",
    "                draw_caption(img, (a1, a2, a3, a4), lab)\n",
    "        \n",
    "                cv2.rectangle(img, (a1, a2), (a3, a4), color=(0, 255,0), thickness=2)\n",
    "                \n",
    "            coor_true.append(temp)\n",
    "            true_label.append(temp1)\n",
    "        \n",
    "        \n",
    "#             print(label_name)\n",
    "#         print(idx)\n",
    "#         cv2.imwrite(\"./test_pred/\"+\"img_\"+label_name+str(idx)+\".jpg\",img)"
   ]
  },
  {
   "cell_type": "code",
   "execution_count": 15,
   "metadata": {},
   "outputs": [
    {
     "name": "stdout",
     "output_type": "stream",
     "text": [
      "['raccoon'] ['bobcat']\n",
      "['cat'] ['coyote']\n",
      "['raccoon', 'raccoon'] ['raccoon']\n",
      "['rabbit'] ['squirrel']\n",
      "[] ['cat']\n",
      "[] ['squirrel']\n",
      "['raccoon', 'raccoon'] ['raccoon']\n",
      "[] ['bird']\n",
      "['coyote', 'coyote'] ['coyote']\n",
      "['bobcat', 'bobcat'] ['bobcat']\n",
      "['cat'] ['bobcat']\n",
      "['squirrel'] ['coyote']\n",
      "['coyote'] ['cat']\n",
      "[] ['rabbit']\n",
      "['squirrel', 'squirrel'] ['squirrel']\n",
      "[] ['rabbit']\n",
      "['bird', 'bird'] ['bird']\n",
      "['bird'] ['rabbit']\n",
      "['bobcat', 'bobcat'] ['bobcat']\n",
      "[] ['bird']\n",
      "[] ['bobcat']\n",
      "[] ['bird']\n",
      "[] ['bird']\n",
      "['cat'] ['coyote']\n",
      "['cat', 'cat'] ['cat']\n",
      "['raccoon'] ['cat']\n",
      "[] ['bobcat']\n",
      "['bobcat', 'bobcat'] ['bobcat']\n",
      "[] ['bird']\n",
      "['bobcat'] ['coyote']\n",
      "[] ['bird']\n",
      "['squirrel', 'squirrel'] ['rabbit']\n",
      "['cat', 'cat'] ['cat']\n",
      "['coyote', 'coyote'] ['coyote']\n",
      "['rabbit'] ['coyote']\n",
      "[] ['squirrel']\n",
      "[] ['raccoon']\n",
      "['raccoon', 'raccoon'] ['raccoon']\n",
      "['raccoon'] ['coyote']\n",
      "['raccoon'] ['cat']\n",
      "[] ['bobcat']\n",
      "[] ['bird']\n",
      "['raccoon'] ['coyote']\n",
      "[] ['bobcat']\n",
      "[] ['cat']\n",
      "[] ['bird']\n",
      "[] ['bobcat']\n",
      "['bird'] ['coyote']\n",
      "['bobcat', 'bobcat'] ['bobcat']\n",
      "['bird', 'bird'] ['bird']\n",
      "[] ['bird']\n",
      "['rabbit'] ['squirrel']\n",
      "[] ['bird']\n",
      "['raccoon'] ['cat']\n",
      "['rabbit', 'rabbit'] ['rabbit']\n",
      "['bobcat', 'bobcat'] ['bobcat']\n",
      "[] ['squirrel']\n",
      "['rabbit'] ['bird']\n",
      "[] ['bird']\n",
      "['coyote'] ['bobcat']\n",
      "[] ['squirrel']\n",
      "['squirrel'] ['bobcat']\n",
      "[] ['bird']\n",
      "[] ['squirrel']\n",
      "['raccoon'] ['cat']\n",
      "['squirrel', 'rabbit'] ['squirrel']\n",
      "[] ['squirrel']\n",
      "[] ['squirrel']\n",
      "[] ['squirrel']\n",
      "['raccoon'] ['cat']\n",
      "[] ['rabbit']\n",
      "[] ['bobcat']\n",
      "['raccoon', 'raccoon'] ['raccoon']\n",
      "['raccoon', 'raccoon'] ['raccoon']\n",
      "['cat'] ['bobcat']\n",
      "['cat', 'cat'] ['cat']\n",
      "['squirrel', 'squirrel'] ['squirrel']\n",
      "[] ['raccoon']\n",
      "[] ['bird']\n",
      "['raccoon', 'raccoon'] ['raccoon']\n",
      "[] ['rabbit']\n",
      "['bobcat'] ['coyote']\n",
      "[] ['coyote']\n",
      "['bobcat'] ['coyote']\n",
      "['raccoon'] ['bobcat']\n",
      "['bird', 'bird'] ['bird']\n",
      "['bobcat', 'bobcat'] ['bobcat']\n",
      "['raccoon'] ['cat']\n",
      "['raccoon', 'raccoon', 'raccoon', 'bobcat'] ['raccoon']\n",
      "['squirrel', 'squirrel'] ['squirrel']\n",
      "[] ['bird']\n",
      "['bobcat', 'bobcat'] ['bobcat']\n",
      "[] ['coyote']\n",
      "[] ['bird']\n",
      "['raccoon', 'raccoon', 'raccoon'] ['raccoon']\n",
      "[] ['cat']\n",
      "['coyote', 'coyote'] ['coyote']\n",
      "['raccoon'] ['bobcat']\n",
      "[] ['squirrel']\n",
      "['rabbit', 'rabbit'] ['rabbit']\n",
      "['cat', 'cat'] ['cat']\n",
      "[] ['squirrel']\n",
      "['squirrel'] ['cat']\n",
      "[] ['bird']\n",
      "['raccoon', 'raccoon'] ['raccoon']\n",
      "[] ['bobcat']\n",
      "[] ['coyote']\n",
      "['squirrel', 'squirrel'] ['squirrel']\n",
      "['raccoon'] ['bobcat']\n",
      "['coyote'] ['bobcat']\n",
      "['bird', 'bird'] ['bird']\n",
      "['cat', 'cat'] ['cat']\n",
      "[] ['coyote']\n",
      "['squirrel'] ['rabbit']\n",
      "[] ['cat']\n",
      "['coyote', 'coyote'] ['coyote']\n"
     ]
    }
   ],
   "source": [
    "count = 0\n",
    "for i in range(len(pred_label)):\n",
    "    if pred_label[i] != true_label[i]:\n",
    "        print(pred_label[i],true_label[i])\n",
    "        count +=1"
   ]
  },
  {
   "cell_type": "code",
   "execution_count": null,
   "metadata": {},
   "outputs": [],
   "source": []
  },
  {
   "cell_type": "code",
   "execution_count": 16,
   "metadata": {},
   "outputs": [],
   "source": [
    "iou_total = []\n",
    "conf_matrix = []\n",
    "dict_label = copy.deepcopy(dict_labels)\n",
    "for i in range(len(dict_label.keys())+1):\n",
    "    \n",
    "    conf_matrix.append([0 for i in range(len(dict_label.keys()))])\n",
    "    \n",
    "for i in range(len(coor_pred)):\n",
    "    if len(coor_pred[i]) >=2 and len(coor_true[i]) >=2:\n",
    "        for j in range(len(coor_pred[i])):\n",
    "            try:\n",
    "                sum = box_iou(torch.from_numpy(np.array(coor_true[i][j],dtype=\"float64\")), torch.from_numpy(np.array(coor_pred[i][j],dtype=\"float64\")))\n",
    "                if sum >=0.5:\n",
    "#                     if pred_label[i][j] == true_label[i][j]:\n",
    "                        \n",
    "                    conf_matrix[dict_label[pred_label[i][j][0]]][dict_label[true_label[i][j][0]]] = conf_matrix[dict_label[pred_label[i][j][0]]][dict_label[true_label[i][j][0]]] +1\n",
    "                iou_total.append(sum)\n",
    "                continue\n",
    "            except:\n",
    "                pass\n",
    "    elif len(coor_true[i])>=2:\n",
    "         for j in range(len(coor_true[i])):\n",
    "            try:\n",
    "                sum = box_iou(torch.from_numpy(np.array(coor_true[i][j],dtype=\"float64\")), torch.from_numpy(np.array(coor_pred[i],dtype=\"float64\")))\n",
    "                iou_total.append(sum)\n",
    "                if sum >=0.5:\n",
    "#                     print(pred_label[i])\n",
    "#                     if pred_label[i] == true_label[i][j]:\n",
    "                        \n",
    "                    conf_matrix[dict_label[pred_label[i][0]]][dict_label[true_label[i][j][0]]] = conf_matrix[dict_label[pred_label[i][0]]][dict_label[true_label[i][j][0]]] +1\n",
    "                continue\n",
    "            except:\n",
    "                \n",
    "                pass\n",
    "    elif len(coor_pred[i])>=2:\n",
    "        for j in range(len(coor_pred[i])):\n",
    "            try:\n",
    "                sum = box_iou(torch.from_numpy(np.array(coor_true[i],dtype=\"float64\")), torch.from_numpy(np.array(coor_pred[i][j],dtype=\"float64\")))\n",
    "                iou_total.append(sum)\n",
    "                if sum >=0.5:\n",
    "#                     print(pred_label[i])\n",
    "#                     if pred_label[i][j]== true_label[i]:\n",
    "                        \n",
    "                    conf_matrix[dict_label[pred_label[i][j][0]]][dict_label[true_label[i][0]]] = conf_matrix[dict_label[pred_label[i][j][0]]][dict_label[true_label[i][0]]] +1\n",
    "                continue\n",
    "            except:\n",
    "                pass\n",
    "    elif len(coor_pred[i])==1 and len(coor_true[i])==1:\n",
    "        sum = box_iou(torch.from_numpy(np.array(coor_true[i],dtype=\"float64\")), torch.from_numpy(np.array(coor_pred[i],dtype=\"float64\")))\n",
    "        iou_total.append(sum)\n",
    "        if sum >=0.5:\n",
    "             \n",
    "#             if pred_label[i]== true_label[i]:\n",
    "#                 print(pred_label[i])\n",
    "            conf_matrix[dict_label[pred_label[i][0]]][dict_label[true_label[i][0]]] = conf_matrix[dict_label[pred_label[i][0]]][dict_label[true_label[i][0]]] +1\n",
    "            continue\n",
    "                                                                                                          \n",
    "    else:\n",
    "        conf_matrix[8][dict_label[true_label[i][0]]] = conf_matrix[8][dict_label[true_label[i][0]]] + 1\n",
    "        \n",
    "        "
   ]
  },
  {
   "cell_type": "code",
   "execution_count": 17,
   "metadata": {},
   "outputs": [
    {
     "name": "stdout",
     "output_type": "stream",
     "text": [
      "[[19, 0, 0, 0, 0, 0, 0, 1], [3, 20, 0, 0, 0, 0, 0, 0], [1, 0, 17, 0, 0, 1, 0, 0], [2, 4, 0, 36, 0, 0, 0, 6], [0, 0, 0, 0, 50, 0, 0, 0], [0, 0, 0, 0, 0, 38, 0, 0], [0, 1, 0, 0, 0, 1, 22, 0], [1, 2, 0, 0, 0, 0, 0, 29], [4, 7, 16, 2, 0, 4, 10, 4]]\n"
     ]
    }
   ],
   "source": [
    "print(conf_matrix)"
   ]
  },
  {
   "cell_type": "code",
   "execution_count": 18,
   "metadata": {},
   "outputs": [
    {
     "data": {
      "text/plain": [
       "<matplotlib.axes._subplots.AxesSubplot at 0x7ff35054cd50>"
      ]
     },
     "execution_count": 18,
     "metadata": {},
     "output_type": "execute_result"
    },
    {
     "data": {
      "image/png": "[encoded data removed]",
      "text/plain": [
       "<Figure size 432x288 with 2 Axes>"
      ]
     },
     "metadata": {
      "needs_background": "light"
     },
     "output_type": "display_data"
    }
   ],
   "source": [
    "import seaborn as sns\n",
    "sns.heatmap(conf_matrix,annot=True)"
   ]
  },
  {
   "cell_type": "code",
   "execution_count": 19,
   "metadata": {},
   "outputs": [],
   "source": [
    "iou_total_sum = 0\n",
    "for i in range(len(iou_total)):\n",
    "    iou_total_sum =iou_total_sum + (iou_total[i][0]).sum()/len(iou_total[i][0])\n",
    "iou_final = iou_total_sum/len(iou_total)"
   ]
  },
  {
   "cell_type": "code",
   "execution_count": 20,
   "metadata": {},
   "outputs": [
    {
     "name": "stdout",
     "output_type": "stream",
     "text": [
      "Final IOU for validation set :  tensor(0.6520, dtype=torch.float64)\n"
     ]
    }
   ],
   "source": [
    "print(\"Final IOU for validation set : \",iou_final)"
   ]
  },
  {
   "cell_type": "code",
   "execution_count": null,
   "metadata": {},
   "outputs": [],
   "source": []
  },
  {
   "cell_type": "code",
   "execution_count": null,
   "metadata": {},
   "outputs": [],
   "source": []
  }
 ],
 "metadata": {
  "kernelspec": {
   "display_name": "Python 3",
   "language": "python",
   "name": "python3"
  },
  "language_info": {
   "codemirror_mode": {
    "name": "ipython",
    "version": 3
   },
   "file_extension": ".py",
   "mimetype": "text/x-python",
   "name": "python",
   "nbconvert_exporter": "python",
   "pygments_lexer": "ipython3",
   "version": "3.7.4"
  }
 },
 "nbformat": 4,
 "nbformat_minor": 2
}
